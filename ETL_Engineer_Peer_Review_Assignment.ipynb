{
  "cells": [
    {
      "cell_type": "markdown",
      "metadata": {
        "id": "wla6kXvuy6eH"
      },
      "source": [
        "<p style=\"text-align:center\">\n",
        "    <a href=\"https://skills.network/?utm_medium=Exinfluencer&utm_source=Exinfluencer&utm_content=000026UJ&utm_term=10006555&utm_id=NA-SkillsNetwork-Channel-SkillsNetworkCoursesIBMDeveloperSkillsNetworkPY0221ENSkillsNetwork23455645-2022-01-01\" target=\"_blank\">\n",
        "    <img src=\"https://cf-courses-data.s3.us.cloud-object-storage.appdomain.cloud/assets/logos/SN_web_lightmode.png\" width=\"200\" alt=\"Skills Network Logo\"  />\n",
        "    </a>\n",
        "</p>\n"
      ]
    },
    {
      "cell_type": "markdown",
      "metadata": {
        "id": "5o9TlxFUy6eL"
      },
      "source": [
        "# Peer Review Assignment - Data Engineer - ETL\n"
      ]
    },
    {
      "cell_type": "markdown",
      "metadata": {
        "id": "u6geCTnky6eL"
      },
      "source": [
        "Estimated time needed: **20** minutes\n"
      ]
    },
    {
      "cell_type": "markdown",
      "metadata": {
        "id": "W3xoQ8Pny6eM"
      },
      "source": [
        "## Objectives\n",
        "\n",
        "In this final part you will:\n",
        "\n",
        "*   Run the ETL process\n",
        "*   Extract bank and market cap data from the JSON file `bank_market_cap.json`\n",
        "*   Transform the market cap currency using the exchange rate data\n",
        "*   Load the transformed data into a seperate CSV\n"
      ]
    },
    {
      "cell_type": "markdown",
      "metadata": {
        "id": "WR1Ihs6cy6eM"
      },
      "source": [
        "For this lab, we are going to be using Python and several Python libraries. Some of these libraries might be installed in your lab environment or in SN Labs. Others may need to be installed by you. The cells below will install these libraries when executed.\n"
      ]
    },
    {
      "cell_type": "code",
      "execution_count": null,
      "metadata": {
        "id": "VXytwFh2y6eN"
      },
      "outputs": [],
      "source": [
        "#!mamba install pandas==1.3.3 -y\n",
        "#!mamba install requests==2.26.0 -y"
      ]
    },
    {
      "cell_type": "markdown",
      "metadata": {
        "id": "MkS9rA_py6eN"
      },
      "source": [
        "## Imports\n",
        "\n",
        "Import any additional libraries you may need here.\n"
      ]
    },
    {
      "cell_type": "code",
      "execution_count": null,
      "metadata": {
        "id": "RKE9eKQhy6eO"
      },
      "outputs": [],
      "source": [
        "import glob\n",
        "import pandas as pd\n",
        "from datetime import datetime"
      ]
    },
    {
      "cell_type": "markdown",
      "metadata": {
        "id": "VqKNGddWy6eO"
      },
      "source": [
        "As the exchange rate fluctuates, we will download the same dataset to make marking simpler. This will be in the same format as the dataset you used in the last section\n"
      ]
    },
    {
      "cell_type": "code",
      "execution_count": null,
      "metadata": {
        "colab": {
          "base_uri": "https://localhost:8080/"
        },
        "id": "0hhsWQoFy6eP",
        "outputId": "8b480af2-a83f-48c5-d77a-a4431ecbd281"
      },
      "outputs": [
        {
          "output_type": "stream",
          "name": "stdout",
          "text": [
            "--2022-12-26 14:40:09--  https://cf-courses-data.s3.us.cloud-object-storage.appdomain.cloud/IBMDeveloperSkillsNetwork-PY0221EN-SkillsNetwork/labs/module%206/Lab%20-%20Extract%20Transform%20Load/data/bank_market_cap_1.json\n",
            "Resolving cf-courses-data.s3.us.cloud-object-storage.appdomain.cloud (cf-courses-data.s3.us.cloud-object-storage.appdomain.cloud)... 169.63.118.104\n",
            "Connecting to cf-courses-data.s3.us.cloud-object-storage.appdomain.cloud (cf-courses-data.s3.us.cloud-object-storage.appdomain.cloud)|169.63.118.104|:443... connected.\n",
            "HTTP request sent, awaiting response... 200 OK\n",
            "Length: 2815 (2.7K) [application/json]\n",
            "Saving to: ‘bank_market_cap_1.json’\n",
            "\n",
            "bank_market_cap_1.j 100%[===================>]   2.75K  --.-KB/s    in 0s      \n",
            "\n",
            "2022-12-26 14:40:10 (595 MB/s) - ‘bank_market_cap_1.json’ saved [2815/2815]\n",
            "\n",
            "--2022-12-26 14:40:10--  https://cf-courses-data.s3.us.cloud-object-storage.appdomain.cloud/IBMDeveloperSkillsNetwork-PY0221EN-SkillsNetwork/labs/module%206/Lab%20-%20Extract%20Transform%20Load/data/bank_market_cap_2.json\n",
            "Resolving cf-courses-data.s3.us.cloud-object-storage.appdomain.cloud (cf-courses-data.s3.us.cloud-object-storage.appdomain.cloud)... 169.63.118.104\n",
            "Connecting to cf-courses-data.s3.us.cloud-object-storage.appdomain.cloud (cf-courses-data.s3.us.cloud-object-storage.appdomain.cloud)|169.63.118.104|:443... connected.\n",
            "HTTP request sent, awaiting response... 200 OK\n",
            "Length: 1429 (1.4K) [application/json]\n",
            "Saving to: ‘bank_market_cap_2.json’\n",
            "\n",
            "bank_market_cap_2.j 100%[===================>]   1.40K  --.-KB/s    in 0s      \n",
            "\n",
            "2022-12-26 14:40:11 (326 MB/s) - ‘bank_market_cap_2.json’ saved [1429/1429]\n",
            "\n",
            "--2022-12-26 14:40:11--  https://cf-courses-data.s3.us.cloud-object-storage.appdomain.cloud/IBMDeveloperSkillsNetwork-PY0221EN-SkillsNetwork/labs/module%206/Final%20Assignment/exchange_rates.csv\n",
            "Resolving cf-courses-data.s3.us.cloud-object-storage.appdomain.cloud (cf-courses-data.s3.us.cloud-object-storage.appdomain.cloud)... 169.63.118.104\n",
            "Connecting to cf-courses-data.s3.us.cloud-object-storage.appdomain.cloud (cf-courses-data.s3.us.cloud-object-storage.appdomain.cloud)|169.63.118.104|:443... connected.\n",
            "HTTP request sent, awaiting response... 200 OK\n",
            "Length: 590 [text/csv]\n",
            "Saving to: ‘exchange_rates.csv’\n",
            "\n",
            "exchange_rates.csv  100%[===================>]     590  --.-KB/s    in 0s      \n",
            "\n",
            "2022-12-26 14:40:11 (119 MB/s) - ‘exchange_rates.csv’ saved [590/590]\n",
            "\n"
          ]
        }
      ],
      "source": [
        "!wget https://cf-courses-data.s3.us.cloud-object-storage.appdomain.cloud/IBMDeveloperSkillsNetwork-PY0221EN-SkillsNetwork/labs/module%206/Lab%20-%20Extract%20Transform%20Load/data/bank_market_cap_1.json\n",
        "!wget https://cf-courses-data.s3.us.cloud-object-storage.appdomain.cloud/IBMDeveloperSkillsNetwork-PY0221EN-SkillsNetwork/labs/module%206/Lab%20-%20Extract%20Transform%20Load/data/bank_market_cap_2.json\n",
        "!wget https://cf-courses-data.s3.us.cloud-object-storage.appdomain.cloud/IBMDeveloperSkillsNetwork-PY0221EN-SkillsNetwork/labs/module%206/Final%20Assignment/exchange_rates.csv"
      ]
    },
    {
      "cell_type": "markdown",
      "metadata": {
        "id": "u0WwtZnly6eP"
      },
      "source": [
        "## Extract\n"
      ]
    },
    {
      "cell_type": "markdown",
      "metadata": {
        "id": "y27hL1Dxy6eP"
      },
      "source": [
        "### JSON Extract Function\n",
        "\n",
        "This function will extract JSON files.\n"
      ]
    },
    {
      "cell_type": "code",
      "execution_count": null,
      "metadata": {
        "id": "fKfE4wf4y6eQ"
      },
      "outputs": [],
      "source": [
        "def extract_from_json(file_to_process):\n",
        "    dataframe = pd.read_json(file_to_process)\n",
        "    return dataframe"
      ]
    },
    {
      "cell_type": "markdown",
      "metadata": {
        "id": "oTMcZ_Ipy6eQ"
      },
      "source": [
        "## Extract Function\n",
        "\n",
        "Define the extract function that finds JSON file `bank_market_cap_1.json` and calls the function created above to extract data from them. Store the data in a `pandas` dataframe. Use the following list for the columns.\n"
      ]
    },
    {
      "cell_type": "code",
      "execution_count": null,
      "metadata": {
        "id": "_SGArGM_y6eQ"
      },
      "outputs": [],
      "source": [
        "columns=['Name','Market Cap (US$ Billion)']"
      ]
    },
    {
      "cell_type": "code",
      "execution_count": null,
      "metadata": {
        "id": "KB9FclWny6eR"
      },
      "outputs": [],
      "source": [
        "def extract():\n",
        "    # Write your code here\n",
        "    extracted_data = pd.DataFrame(columns=['Name','Market Cap (US$ Billion)']) # create an empty data frame to hold extracted data\n",
        "\n",
        "    for jsonfile in glob.glob(\"bank_market_cap_1.json\"):\n",
        "        extracted_data = extracted_data.append(extract_from_json(jsonfile), ignore_index=True)\n",
        "\n",
        "    return extracted_data"
      ]
    },
    {
      "cell_type": "markdown",
      "metadata": {
        "id": "DxpFK1Nzy6eR"
      },
      "source": [
        "<b>Question 1</b> Load the file <code>exchange_rates.csv</code> as a dataframe and find the exchange rate for British pounds with the symbol <code>GBP</code>, store it in the variable  <code>exchange_rate</code>, you will be asked for the number. Hint: set the parameter  <code>index_col</code> to 0.\n"
      ]
    },
    {
      "cell_type": "code",
      "execution_count": null,
      "metadata": {
        "colab": {
          "base_uri": "https://localhost:8080/"
        },
        "id": "QwEyaULmy6eR",
        "outputId": "cfbd9718-ef68-4ba3-db4a-fe9ee8cd5991"
      },
      "outputs": [
        {
          "output_type": "stream",
          "name": "stdout",
          "text": [
            "   Unnamed: 0         Rates\n",
            "0         AUD      1.297088\n",
            "1         BGN      1.608653\n",
            "2         BRL      5.409196\n",
            "3         CAD      1.271426\n",
            "4         CHF      0.886083\n",
            "5         CNY      6.483139\n",
            "6         CZK     21.510117\n",
            "7         DKK      6.119757\n",
            "8         EUR      0.822504\n",
            "9         GBP      0.732398\n",
            "10        HKD      7.752509\n",
            "11        HRK      6.222652\n",
            "12        HUF    294.135549\n",
            "13        IDR  14097.902616\n",
            "14        ILS      3.281132\n",
            "15        INR     73.011186\n",
            "16        ISK    129.133081\n",
            "17        JPY    103.791742\n",
            "18        KRW   1105.839776\n",
            "19        MXN     19.932966\n",
            "20        MYR      4.043017\n",
            "21        NOK      8.497121\n",
            "22        NZD      1.393733\n",
            "23        PHP     48.070406\n",
            "24        PLN      3.732933\n",
            "25        RON      4.008883\n",
            "26        RUB     74.930827\n",
            "27        SEK      8.292071\n",
            "28        SGD      1.328261\n",
            "29        THB     30.009870\n",
            "30        TRY      7.418572\n",
            "31        USD      1.000000\n",
            "32        ZAR     15.118441\n",
            "0.7323984208000001\n"
          ]
        }
      ],
      "source": [
        "# Write your code here\n",
        "df = pd.read_csv(\"exchange_rates.csv\") # Load CSV using pandas dataframe\n",
        "print(df) # we can see row 9 is GBP\n",
        "\n",
        "exchange_rate = df.iloc[9,1] # iloc to select row 9, column 1\n",
        "print(exchange_rate)"
      ]
    },
    {
      "cell_type": "markdown",
      "metadata": {
        "id": "NR31h7Rpy6eR"
      },
      "source": [
        "## Transform\n",
        "\n",
        "Using <code>exchange_rate</code> and the `exchange_rates.csv` file find the exchange rate of USD to GBP. Write a transform function that\n",
        "\n",
        "1.  Changes the `Market Cap (US$ Billion)` column from USD to GBP\n",
        "2.  Rounds the Market Cap (US$ Billion)\\` column to 3 decimal places\n",
        "3.  Rename `Market Cap (US$ Billion)` to `Market Cap (GBP$ Billion)`\n"
      ]
    },
    {
      "cell_type": "code",
      "execution_count": null,
      "metadata": {
        "id": "bIJJSV7Ay6eR"
      },
      "outputs": [],
      "source": [
        "def transform(data):\n",
        "    # Write your code here\n",
        "    data['Market Cap (US$ Billion)'] = round(data['Market Cap (US$ Billion)'] * 0.7323984208000001, 3)\n",
        "    data.rename(columns = {'Market Cap (US$ Billion)':'Market Cap (GBP$ Billion)'}, inplace = True)\n",
        "    return data"
      ]
    },
    {
      "cell_type": "markdown",
      "metadata": {
        "id": "uQQEnMt5y6eS"
      },
      "source": [
        "## Load\n",
        "\n",
        "Create a function that takes a dataframe and load it to a csv named `bank_market_cap_gbp.csv`. Make sure to set `index` to `False`.\n"
      ]
    },
    {
      "cell_type": "code",
      "execution_count": null,
      "metadata": {
        "id": "GQdb4u-Gy6eS"
      },
      "outputs": [],
      "source": [
        "def load(targetfile, data_to_load):\n",
        "    # Write your code here\n",
        "    data_to_load.to_csv(targetfile) "
      ]
    },
    {
      "cell_type": "markdown",
      "metadata": {
        "id": "6hbhNLPby6eS"
      },
      "source": [
        "## Logging Function\n"
      ]
    },
    {
      "cell_type": "markdown",
      "metadata": {
        "id": "8pzFBiZty6eS"
      },
      "source": [
        "Write the logging function <code>log</code> to log your data:\n"
      ]
    },
    {
      "cell_type": "code",
      "execution_count": null,
      "metadata": {
        "id": "WnTSlVdGy6eS"
      },
      "outputs": [],
      "source": [
        "def log(message):\n",
        "    # Write your code here\n",
        "    timestamp_format = '%Y-%h-%d-%H:%M:%S' # Year-Monthname-Day-Hour-Minute-Second\n",
        "    now = datetime.now() # get current timestamp\n",
        "    timestamp = now.strftime(timestamp_format)\n",
        "    with open(\"logfile.txt\",\"a\") as f:\n",
        "        f.write(timestamp + ',' + message + '\\n')    "
      ]
    },
    {
      "cell_type": "markdown",
      "metadata": {
        "id": "Ug9VCqu6y6eT"
      },
      "source": [
        "## Running the ETL Process\n"
      ]
    },
    {
      "cell_type": "markdown",
      "metadata": {
        "id": "4IQk7gsBy6eT"
      },
      "source": [
        "Log the process accordingly using the following <code>\"ETL Job Started\"</code> and <code>\"Extract phase Started\"</code>\n"
      ]
    },
    {
      "cell_type": "code",
      "execution_count": null,
      "metadata": {
        "id": "RMVzB-5Uy6eT"
      },
      "outputs": [],
      "source": [
        "# Write your code here\n",
        "log(\"ETL Job Started\")\n",
        "log(\"Extract phase Started\")\n",
        "extracted_data = extract()"
      ]
    },
    {
      "cell_type": "markdown",
      "metadata": {
        "id": "UF2-N_Vny6eT"
      },
      "source": [
        "### Extract\n"
      ]
    },
    {
      "cell_type": "markdown",
      "metadata": {
        "id": "rRI7zH4dy6eT"
      },
      "source": [
        "<code>Question 2</code> Use the function <code>extract</code>, and print the first 5 rows, take a screen shot:\n"
      ]
    },
    {
      "cell_type": "code",
      "execution_count": null,
      "metadata": {
        "colab": {
          "base_uri": "https://localhost:8080/",
          "height": 206
        },
        "id": "Z9--s9WVy6eT",
        "outputId": "62dfc1a3-c55f-4571-d9c0-2d245675fdf1"
      },
      "outputs": [
        {
          "output_type": "execute_result",
          "data": {
            "text/plain": [
              "                                      Name  Market Cap (US$ Billion)\n",
              "0                           JPMorgan Chase                   390.934\n",
              "1  Industrial and Commercial Bank of China                   345.214\n",
              "2                          Bank of America                   325.331\n",
              "3                              Wells Fargo                   308.013\n",
              "4                  China Construction Bank                   257.399"
            ],
            "text/html": [
              "\n",
              "  <div id=\"df-4bdbd087-caa4-4a26-8809-4f8a4c37df7c\">\n",
              "    <div class=\"colab-df-container\">\n",
              "      <div>\n",
              "<style scoped>\n",
              "    .dataframe tbody tr th:only-of-type {\n",
              "        vertical-align: middle;\n",
              "    }\n",
              "\n",
              "    .dataframe tbody tr th {\n",
              "        vertical-align: top;\n",
              "    }\n",
              "\n",
              "    .dataframe thead th {\n",
              "        text-align: right;\n",
              "    }\n",
              "</style>\n",
              "<table border=\"1\" class=\"dataframe\">\n",
              "  <thead>\n",
              "    <tr style=\"text-align: right;\">\n",
              "      <th></th>\n",
              "      <th>Name</th>\n",
              "      <th>Market Cap (US$ Billion)</th>\n",
              "    </tr>\n",
              "  </thead>\n",
              "  <tbody>\n",
              "    <tr>\n",
              "      <th>0</th>\n",
              "      <td>JPMorgan Chase</td>\n",
              "      <td>390.934</td>\n",
              "    </tr>\n",
              "    <tr>\n",
              "      <th>1</th>\n",
              "      <td>Industrial and Commercial Bank of China</td>\n",
              "      <td>345.214</td>\n",
              "    </tr>\n",
              "    <tr>\n",
              "      <th>2</th>\n",
              "      <td>Bank of America</td>\n",
              "      <td>325.331</td>\n",
              "    </tr>\n",
              "    <tr>\n",
              "      <th>3</th>\n",
              "      <td>Wells Fargo</td>\n",
              "      <td>308.013</td>\n",
              "    </tr>\n",
              "    <tr>\n",
              "      <th>4</th>\n",
              "      <td>China Construction Bank</td>\n",
              "      <td>257.399</td>\n",
              "    </tr>\n",
              "  </tbody>\n",
              "</table>\n",
              "</div>\n",
              "      <button class=\"colab-df-convert\" onclick=\"convertToInteractive('df-4bdbd087-caa4-4a26-8809-4f8a4c37df7c')\"\n",
              "              title=\"Convert this dataframe to an interactive table.\"\n",
              "              style=\"display:none;\">\n",
              "        \n",
              "  <svg xmlns=\"http://www.w3.org/2000/svg\" height=\"24px\"viewBox=\"0 0 24 24\"\n",
              "       width=\"24px\">\n",
              "    <path d=\"M0 0h24v24H0V0z\" fill=\"none\"/>\n",
              "    <path d=\"M18.56 5.44l.94 2.06.94-2.06 2.06-.94-2.06-.94-.94-2.06-.94 2.06-2.06.94zm-11 1L8.5 8.5l.94-2.06 2.06-.94-2.06-.94L8.5 2.5l-.94 2.06-2.06.94zm10 10l.94 2.06.94-2.06 2.06-.94-2.06-.94-.94-2.06-.94 2.06-2.06.94z\"/><path d=\"M17.41 7.96l-1.37-1.37c-.4-.4-.92-.59-1.43-.59-.52 0-1.04.2-1.43.59L10.3 9.45l-7.72 7.72c-.78.78-.78 2.05 0 2.83L4 21.41c.39.39.9.59 1.41.59.51 0 1.02-.2 1.41-.59l7.78-7.78 2.81-2.81c.8-.78.8-2.07 0-2.86zM5.41 20L4 18.59l7.72-7.72 1.47 1.35L5.41 20z\"/>\n",
              "  </svg>\n",
              "      </button>\n",
              "      \n",
              "  <style>\n",
              "    .colab-df-container {\n",
              "      display:flex;\n",
              "      flex-wrap:wrap;\n",
              "      gap: 12px;\n",
              "    }\n",
              "\n",
              "    .colab-df-convert {\n",
              "      background-color: #E8F0FE;\n",
              "      border: none;\n",
              "      border-radius: 50%;\n",
              "      cursor: pointer;\n",
              "      display: none;\n",
              "      fill: #1967D2;\n",
              "      height: 32px;\n",
              "      padding: 0 0 0 0;\n",
              "      width: 32px;\n",
              "    }\n",
              "\n",
              "    .colab-df-convert:hover {\n",
              "      background-color: #E2EBFA;\n",
              "      box-shadow: 0px 1px 2px rgba(60, 64, 67, 0.3), 0px 1px 3px 1px rgba(60, 64, 67, 0.15);\n",
              "      fill: #174EA6;\n",
              "    }\n",
              "\n",
              "    [theme=dark] .colab-df-convert {\n",
              "      background-color: #3B4455;\n",
              "      fill: #D2E3FC;\n",
              "    }\n",
              "\n",
              "    [theme=dark] .colab-df-convert:hover {\n",
              "      background-color: #434B5C;\n",
              "      box-shadow: 0px 1px 3px 1px rgba(0, 0, 0, 0.15);\n",
              "      filter: drop-shadow(0px 1px 2px rgba(0, 0, 0, 0.3));\n",
              "      fill: #FFFFFF;\n",
              "    }\n",
              "  </style>\n",
              "\n",
              "      <script>\n",
              "        const buttonEl =\n",
              "          document.querySelector('#df-4bdbd087-caa4-4a26-8809-4f8a4c37df7c button.colab-df-convert');\n",
              "        buttonEl.style.display =\n",
              "          google.colab.kernel.accessAllowed ? 'block' : 'none';\n",
              "\n",
              "        async function convertToInteractive(key) {\n",
              "          const element = document.querySelector('#df-4bdbd087-caa4-4a26-8809-4f8a4c37df7c');\n",
              "          const dataTable =\n",
              "            await google.colab.kernel.invokeFunction('convertToInteractive',\n",
              "                                                     [key], {});\n",
              "          if (!dataTable) return;\n",
              "\n",
              "          const docLinkHtml = 'Like what you see? Visit the ' +\n",
              "            '<a target=\"_blank\" href=https://colab.research.google.com/notebooks/data_table.ipynb>data table notebook</a>'\n",
              "            + ' to learn more about interactive tables.';\n",
              "          element.innerHTML = '';\n",
              "          dataTable['output_type'] = 'display_data';\n",
              "          await google.colab.output.renderOutput(dataTable, element);\n",
              "          const docLink = document.createElement('div');\n",
              "          docLink.innerHTML = docLinkHtml;\n",
              "          element.appendChild(docLink);\n",
              "        }\n",
              "      </script>\n",
              "    </div>\n",
              "  </div>\n",
              "  "
            ]
          },
          "metadata": {},
          "execution_count": 12
        }
      ],
      "source": [
        "# Call the function here\n",
        "extract()\n",
        "# Print the rows here\n",
        "extract().head(5)"
      ]
    },
    {
      "cell_type": "markdown",
      "metadata": {
        "id": "OrrCBKG4y6eT"
      },
      "source": [
        "Log the data as <code>\"Extract phase Ended\"</code>\n"
      ]
    },
    {
      "cell_type": "code",
      "execution_count": null,
      "metadata": {
        "id": "L9-XYXGZy6eT"
      },
      "outputs": [],
      "source": [
        "# Write your code here\n",
        "log(\"Extract phase Ended\")"
      ]
    },
    {
      "cell_type": "markdown",
      "metadata": {
        "id": "tOvVpD6ay6eU"
      },
      "source": [
        "### Transform\n"
      ]
    },
    {
      "cell_type": "markdown",
      "metadata": {
        "id": "7lvVXK-Uy6eU"
      },
      "source": [
        "Log the following  <code>\"Transform phase Started\"</code>\n"
      ]
    },
    {
      "cell_type": "code",
      "execution_count": null,
      "metadata": {
        "id": "lDceBOjGy6eU"
      },
      "outputs": [],
      "source": [
        "# Write your code here\n",
        "log(\"Transform phase Started\")"
      ]
    },
    {
      "cell_type": "markdown",
      "metadata": {
        "id": "_3I1q9FRy6eU"
      },
      "source": [
        "<code>Question 3</code> Use the function <code>transform</code> and print the first 5 rows of the output, take a screen shot:\n"
      ]
    },
    {
      "cell_type": "code",
      "execution_count": null,
      "metadata": {
        "colab": {
          "base_uri": "https://localhost:8080/",
          "height": 206
        },
        "id": "Edb5K3f-y6eU",
        "outputId": "8477ac28-f24d-4334-ae8f-9918471b830d"
      },
      "outputs": [
        {
          "output_type": "execute_result",
          "data": {
            "text/plain": [
              "                                      Name  Market Cap (GBP$ Billion)\n",
              "0                           JPMorgan Chase                    286.319\n",
              "1  Industrial and Commercial Bank of China                    252.834\n",
              "2                          Bank of America                    238.272\n",
              "3                              Wells Fargo                    225.588\n",
              "4                  China Construction Bank                    188.519"
            ],
            "text/html": [
              "\n",
              "  <div id=\"df-4d00aa89-8846-4b79-b93b-33f1291ab330\">\n",
              "    <div class=\"colab-df-container\">\n",
              "      <div>\n",
              "<style scoped>\n",
              "    .dataframe tbody tr th:only-of-type {\n",
              "        vertical-align: middle;\n",
              "    }\n",
              "\n",
              "    .dataframe tbody tr th {\n",
              "        vertical-align: top;\n",
              "    }\n",
              "\n",
              "    .dataframe thead th {\n",
              "        text-align: right;\n",
              "    }\n",
              "</style>\n",
              "<table border=\"1\" class=\"dataframe\">\n",
              "  <thead>\n",
              "    <tr style=\"text-align: right;\">\n",
              "      <th></th>\n",
              "      <th>Name</th>\n",
              "      <th>Market Cap (GBP$ Billion)</th>\n",
              "    </tr>\n",
              "  </thead>\n",
              "  <tbody>\n",
              "    <tr>\n",
              "      <th>0</th>\n",
              "      <td>JPMorgan Chase</td>\n",
              "      <td>286.319</td>\n",
              "    </tr>\n",
              "    <tr>\n",
              "      <th>1</th>\n",
              "      <td>Industrial and Commercial Bank of China</td>\n",
              "      <td>252.834</td>\n",
              "    </tr>\n",
              "    <tr>\n",
              "      <th>2</th>\n",
              "      <td>Bank of America</td>\n",
              "      <td>238.272</td>\n",
              "    </tr>\n",
              "    <tr>\n",
              "      <th>3</th>\n",
              "      <td>Wells Fargo</td>\n",
              "      <td>225.588</td>\n",
              "    </tr>\n",
              "    <tr>\n",
              "      <th>4</th>\n",
              "      <td>China Construction Bank</td>\n",
              "      <td>188.519</td>\n",
              "    </tr>\n",
              "  </tbody>\n",
              "</table>\n",
              "</div>\n",
              "      <button class=\"colab-df-convert\" onclick=\"convertToInteractive('df-4d00aa89-8846-4b79-b93b-33f1291ab330')\"\n",
              "              title=\"Convert this dataframe to an interactive table.\"\n",
              "              style=\"display:none;\">\n",
              "        \n",
              "  <svg xmlns=\"http://www.w3.org/2000/svg\" height=\"24px\"viewBox=\"0 0 24 24\"\n",
              "       width=\"24px\">\n",
              "    <path d=\"M0 0h24v24H0V0z\" fill=\"none\"/>\n",
              "    <path d=\"M18.56 5.44l.94 2.06.94-2.06 2.06-.94-2.06-.94-.94-2.06-.94 2.06-2.06.94zm-11 1L8.5 8.5l.94-2.06 2.06-.94-2.06-.94L8.5 2.5l-.94 2.06-2.06.94zm10 10l.94 2.06.94-2.06 2.06-.94-2.06-.94-.94-2.06-.94 2.06-2.06.94z\"/><path d=\"M17.41 7.96l-1.37-1.37c-.4-.4-.92-.59-1.43-.59-.52 0-1.04.2-1.43.59L10.3 9.45l-7.72 7.72c-.78.78-.78 2.05 0 2.83L4 21.41c.39.39.9.59 1.41.59.51 0 1.02-.2 1.41-.59l7.78-7.78 2.81-2.81c.8-.78.8-2.07 0-2.86zM5.41 20L4 18.59l7.72-7.72 1.47 1.35L5.41 20z\"/>\n",
              "  </svg>\n",
              "      </button>\n",
              "      \n",
              "  <style>\n",
              "    .colab-df-container {\n",
              "      display:flex;\n",
              "      flex-wrap:wrap;\n",
              "      gap: 12px;\n",
              "    }\n",
              "\n",
              "    .colab-df-convert {\n",
              "      background-color: #E8F0FE;\n",
              "      border: none;\n",
              "      border-radius: 50%;\n",
              "      cursor: pointer;\n",
              "      display: none;\n",
              "      fill: #1967D2;\n",
              "      height: 32px;\n",
              "      padding: 0 0 0 0;\n",
              "      width: 32px;\n",
              "    }\n",
              "\n",
              "    .colab-df-convert:hover {\n",
              "      background-color: #E2EBFA;\n",
              "      box-shadow: 0px 1px 2px rgba(60, 64, 67, 0.3), 0px 1px 3px 1px rgba(60, 64, 67, 0.15);\n",
              "      fill: #174EA6;\n",
              "    }\n",
              "\n",
              "    [theme=dark] .colab-df-convert {\n",
              "      background-color: #3B4455;\n",
              "      fill: #D2E3FC;\n",
              "    }\n",
              "\n",
              "    [theme=dark] .colab-df-convert:hover {\n",
              "      background-color: #434B5C;\n",
              "      box-shadow: 0px 1px 3px 1px rgba(0, 0, 0, 0.15);\n",
              "      filter: drop-shadow(0px 1px 2px rgba(0, 0, 0, 0.3));\n",
              "      fill: #FFFFFF;\n",
              "    }\n",
              "  </style>\n",
              "\n",
              "      <script>\n",
              "        const buttonEl =\n",
              "          document.querySelector('#df-4d00aa89-8846-4b79-b93b-33f1291ab330 button.colab-df-convert');\n",
              "        buttonEl.style.display =\n",
              "          google.colab.kernel.accessAllowed ? 'block' : 'none';\n",
              "\n",
              "        async function convertToInteractive(key) {\n",
              "          const element = document.querySelector('#df-4d00aa89-8846-4b79-b93b-33f1291ab330');\n",
              "          const dataTable =\n",
              "            await google.colab.kernel.invokeFunction('convertToInteractive',\n",
              "                                                     [key], {});\n",
              "          if (!dataTable) return;\n",
              "\n",
              "          const docLinkHtml = 'Like what you see? Visit the ' +\n",
              "            '<a target=\"_blank\" href=https://colab.research.google.com/notebooks/data_table.ipynb>data table notebook</a>'\n",
              "            + ' to learn more about interactive tables.';\n",
              "          element.innerHTML = '';\n",
              "          dataTable['output_type'] = 'display_data';\n",
              "          await google.colab.output.renderOutput(dataTable, element);\n",
              "          const docLink = document.createElement('div');\n",
              "          docLink.innerHTML = docLinkHtml;\n",
              "          element.appendChild(docLink);\n",
              "        }\n",
              "      </script>\n",
              "    </div>\n",
              "  </div>\n",
              "  "
            ]
          },
          "metadata": {},
          "execution_count": 15
        }
      ],
      "source": [
        "# Call the function here\n",
        "transformed_data = transform(extracted_data)\n",
        "# Print the first 5 rows here\n",
        "transformed_data.head(5)"
      ]
    },
    {
      "cell_type": "markdown",
      "metadata": {
        "id": "5BG7nmpyy6eU"
      },
      "source": [
        "Log your data <code>\"Transform phase Ended\"</code>\n"
      ]
    },
    {
      "cell_type": "code",
      "execution_count": null,
      "metadata": {
        "id": "I7T4j0Yxy6eU"
      },
      "outputs": [],
      "source": [
        "# Write your code here\n",
        "log(\"Transform phase Ended\")"
      ]
    },
    {
      "cell_type": "markdown",
      "metadata": {
        "id": "YeS3j39Vy6eV"
      },
      "source": [
        "### Load\n"
      ]
    },
    {
      "cell_type": "markdown",
      "metadata": {
        "id": "PQ4IDZrcy6eV"
      },
      "source": [
        "Log the following `\"Load phase Started\"`.\n"
      ]
    },
    {
      "cell_type": "code",
      "execution_count": null,
      "metadata": {
        "id": "A6PSJPm9y6eV"
      },
      "outputs": [],
      "source": [
        "# Write your code here\n",
        "log(\"Load phase Started\")"
      ]
    },
    {
      "cell_type": "markdown",
      "metadata": {
        "id": "2K_rQJhvy6eV"
      },
      "source": [
        "Call the load function\n"
      ]
    },
    {
      "cell_type": "code",
      "execution_count": null,
      "metadata": {
        "id": "Ft2A5A-8y6eV"
      },
      "outputs": [],
      "source": [
        "# Write your code here\n",
        "targetfile = \"bank_market_cap_gbp.csv\"   # file where transformed data is stored\n",
        "load(targetfile, transformed_data)"
      ]
    },
    {
      "cell_type": "markdown",
      "metadata": {
        "id": "_KW3BtXmy6eV"
      },
      "source": [
        "Log the following `\"Load phase Ended\"`.\n"
      ]
    },
    {
      "cell_type": "code",
      "execution_count": null,
      "metadata": {
        "id": "U6zj6ctVy6eV"
      },
      "outputs": [],
      "source": [
        "# Write your code here\n",
        "log(\"Load phase Ended\")"
      ]
    },
    {
      "cell_type": "markdown",
      "metadata": {
        "id": "-lrB2NZOy6eV"
      },
      "source": [
        "## Authors\n"
      ]
    },
    {
      "cell_type": "markdown",
      "metadata": {
        "id": "tibFf05ly6eW"
      },
      "source": [
        "Ramesh Sannareddy, Joseph Santrcangelo and Azim Hirjani\n"
      ]
    },
    {
      "cell_type": "markdown",
      "metadata": {
        "id": "YuJtxFLvy6eW"
      },
      "source": [
        "### Other Contributors\n"
      ]
    },
    {
      "cell_type": "markdown",
      "metadata": {
        "id": "SNVV69Viy6eW"
      },
      "source": [
        "Rav Ahuja\n"
      ]
    },
    {
      "cell_type": "markdown",
      "metadata": {
        "id": "06a8clnoy6eW"
      },
      "source": [
        "## Change Log\n"
      ]
    },
    {
      "cell_type": "markdown",
      "metadata": {
        "id": "UzaU2wHTy6eW"
      },
      "source": [
        "| Date (YYYY-MM-DD) | Version | Changed By        | Change Description                 |\n",
        "| ----------------- | ------- | ----------------- | ---------------------------------- |\n",
        "| 2020-11-25        | 0.1     | Ramesh Sannareddy | Created initial version of the lab |\n"
      ]
    },
    {
      "cell_type": "markdown",
      "metadata": {
        "id": "bUkcJPk9y6eW"
      },
      "source": [
        "Copyright © 2020 IBM Corporation. This notebook and its source code are released under the terms of the [MIT License](https://cognitiveclass.ai/mit-license?utm_medium=Exinfluencer&utm_source=Exinfluencer&utm_content=000026UJ&utm_term=10006555&utm_id=NA-SkillsNetwork-Channel-SkillsNetworkCoursesIBMDeveloperSkillsNetworkPY0221ENSkillsNetwork23455645-2022-01-01&cm_mmc=Email_Newsletter-\\_-Developer_Ed%2BTech-\\_-WW_WW-\\_-SkillsNetwork-Courses-IBM-DA0321EN-SkillsNetwork-21426264&cm_mmca1=000026UJ&cm_mmca2=10006555&cm_mmca3=M12345678&cvosrc=email.Newsletter.M12345678&cvo_campaign=000026UJ).\n"
      ]
    }
  ],
  "metadata": {
    "kernelspec": {
      "display_name": "Python 3",
      "language": "python",
      "name": "python3"
    },
    "language_info": {
      "codemirror_mode": {
        "name": "ipython",
        "version": 3
      },
      "file_extension": ".py",
      "mimetype": "text/x-python",
      "name": "python",
      "nbconvert_exporter": "python",
      "pygments_lexer": "ipython3",
      "version": "3.7.6"
    },
    "colab": {
      "provenance": []
    }
  },
  "nbformat": 4,
  "nbformat_minor": 0
}